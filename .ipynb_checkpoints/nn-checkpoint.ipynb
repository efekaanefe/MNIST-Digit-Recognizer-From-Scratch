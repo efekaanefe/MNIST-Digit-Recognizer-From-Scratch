{
 "cells": [
  {
   "cell_type": "code",
   "execution_count": 1,
   "id": "1e8d8c7d",
   "metadata": {},
   "outputs": [],
   "source": [
    "import numpy as np\n",
    "import matplotlib.pyplot as plt\n",
    "from keras.datasets import mnist"
   ]
  },
  {
   "cell_type": "code",
   "execution_count": 2,
   "id": "0f550d62",
   "metadata": {},
   "outputs": [],
   "source": [
    "(train_X, train_y), (test_X, test_y) = mnist.load_data()"
   ]
  },
  {
   "cell_type": "code",
   "execution_count": 3,
   "id": "73707b9f",
   "metadata": {},
   "outputs": [
    {
     "data": {
      "text/plain": [
       "((60000, 28, 28), (60000,))"
      ]
     },
     "execution_count": 3,
     "metadata": {},
     "output_type": "execute_result"
    }
   ],
   "source": [
    "train_X.shape, train_y.shape"
   ]
  },
  {
   "cell_type": "code",
   "execution_count": 4,
   "id": "696fb549",
   "metadata": {
    "scrolled": false
   },
   "outputs": [
    {
     "data": {
      "text/plain": [
       "5"
      ]
     },
     "execution_count": 4,
     "metadata": {},
     "output_type": "execute_result"
    }
   ],
   "source": [
    "train_y[0]"
   ]
  },
  {
   "cell_type": "code",
   "execution_count": 5,
   "id": "0cf9efa4",
   "metadata": {},
   "outputs": [],
   "source": [
    "def get_one_hot_y(y):\n",
    "    output = []\n",
    "    for i in range(y.shape[0]):\n",
    "        tmp = np.array([0]*10)\n",
    "        tmp[train_y[i]] = 1\n",
    "        output.append(tmp)\n",
    "    return np.array(output, dtype = \"float64\").T\n",
    "\n",
    "def get_flatten_X(X):\n",
    "    output = []\n",
    "    for i in range(X.shape[0]):\n",
    "        output.append(X[i].flatten())\n",
    "    return np.array(output, dtype=\"float64\").T"
   ]
  },
  {
   "cell_type": "code",
   "execution_count": 6,
   "id": "eeb0f182",
   "metadata": {
    "scrolled": true
   },
   "outputs": [],
   "source": [
    "train_y_onehot = get_one_hot_y(train_y)\n",
    "train_X_flatten = get_flatten_X(train_X)\n",
    "test_y_onehot = get_one_hot_y(test_y)\n",
    "test_X_flatten = get_flatten_X(test_X)"
   ]
  },
  {
   "cell_type": "code",
   "execution_count": 7,
   "id": "a2cf370d",
   "metadata": {},
   "outputs": [
    {
     "data": {
      "text/plain": [
       "((10, 60000), (10, 10000))"
      ]
     },
     "execution_count": 7,
     "metadata": {},
     "output_type": "execute_result"
    }
   ],
   "source": [
    "train_y_onehot.shape, test_y_onehot.shape"
   ]
  },
  {
   "cell_type": "code",
   "execution_count": 8,
   "id": "e04f5e75",
   "metadata": {},
   "outputs": [
    {
     "data": {
      "text/plain": [
       "((784, 60000), (784, 10000))"
      ]
     },
     "execution_count": 8,
     "metadata": {},
     "output_type": "execute_result"
    }
   ],
   "source": [
    "train_X_flatten.shape, test_X_flatten.shape"
   ]
  },
  {
   "cell_type": "code",
   "execution_count": 9,
   "id": "dc527306",
   "metadata": {},
   "outputs": [
    {
     "name": "stdout",
     "output_type": "stream",
     "text": [
      "Label: 1\n",
      "Y onehot: [0. 1. 0. 0. 0. 0. 0. 0. 0. 0.]\n"
     ]
    },
    {
     "data": {
      "text/plain": [
       "<Figure size 432x288 with 0 Axes>"
      ]
     },
     "metadata": {},
     "output_type": "display_data"
    },
    {
     "data": {
      "image/png": "[encoded data removed]",
      "text/plain": [
       "<Figure size 288x288 with 1 Axes>"
      ]
     },
     "metadata": {
      "needs_background": "light"
     },
     "output_type": "display_data"
    }
   ],
   "source": [
    "def plot_and_label_train_X(i):\n",
    "    print(\"Label:\", train_y[i])\n",
    "    print(\"Y onehot:\", train_y_onehot.T[i])\n",
    "\n",
    "    plt.gray()\n",
    "    plt.matshow(train_X[i])\n",
    "    plt.show()\n",
    "\n",
    "plot_and_label_train_X(np.random.randint(0,1000))"
   ]
  },
  {
   "cell_type": "code",
   "execution_count": 10,
   "id": "171c311d",
   "metadata": {},
   "outputs": [],
   "source": [
    "def sigmoid(x):\n",
    "    return 1/(1+np.exp(-x))\n",
    "\n",
    "def sigmoid_deriv(x):\n",
    "    return sigmoid(x)*(1-sigmoid(x))\n",
    "\n",
    "def ReLU(Z):\n",
    "    return np.maximum(Z, 0)\n",
    "\n",
    "def ReLU_deriv(Z):\n",
    "    return Z > 0\n",
    "\n",
    "def softmax(Z):\n",
    "    A = np.exp(Z) / sum(np.exp(Z))\n",
    "    return A\n",
    "\n"
   ]
  },
  {
   "cell_type": "code",
   "execution_count": 11,
   "id": "3653d247",
   "metadata": {},
   "outputs": [],
   "source": [
    "# suppress warnings\n",
    "#np.warnings.filterwarnings('ignore')\n",
    "\n",
    "\n",
    "# init params\n",
    "W1 = np.random.uniform(-0.5, 0.5, (10,784))\n",
    "b1 = np.random.uniform(-0.5, 0.5, (10,1))\n",
    "W2 = np.random.uniform(-0.5, 0.5, (10,10))\n",
    "b2 = np.random.uniform(-0.5, 0.5, (10,1))\n",
    "\n",
    "i = 0\n",
    "m = 2\n",
    "\n",
    "X = train_X_flatten.T[i:i+m].T # shape -> 784, m\n",
    "Y = train_y_onehot.T[i:i+m].T\n",
    "\n",
    "# forward prop\n",
    "Z1 = W1@X+b1\n",
    "A1 = ReLU(Z1)\n",
    "Z2 = W2@A1+b2\n",
    "A2 = softmax(Z2)\n",
    "\n",
    "# backward prop\n",
    "dZ2 = A2-Y\n",
    "dW2 = 1/m*dZ2@A1.T\n",
    "db2 = 1/m*np.sum(dZ2)\n",
    "dZ1 = W2.T@dZ2 * ReLU_deriv(Z1)\n",
    "dW1 = 1/m*dZ1@X.T\n",
    "db1 = 1/m*np.sum(dZ1)\n",
    "\n",
    "# update poram\n",
    "learning_rate = 0.2\n",
    "W1 = W1 - learning_rate * dW1\n",
    "b1 = b1 - learning_rate * db1    \n",
    "W2 = W2 - learning_rate * dW2  \n",
    "b2 = b2 - learning_rate * db2    "
   ]
  },
  {
   "cell_type": "code",
   "execution_count": 58,
   "id": "090efcad",
   "metadata": {},
   "outputs": [
    {
     "data": {
      "text/plain": [
       "array([[-0.47409532,  0.27286199, -0.27416226, ...,  0.16639315,\n",
       "         0.2916823 , -0.17915263],\n",
       "       [ 0.12850987, -0.15095219, -0.42936222, ..., -0.20257565,\n",
       "         0.21479076, -0.05822701],\n",
       "       [-0.10334018,  0.40755102,  0.195853  , ...,  0.45871268,\n",
       "         0.24779274,  0.20055262],\n",
       "       ...,\n",
       "       [-0.26106295,  0.29410183,  0.28008524, ...,  0.05131018,\n",
       "         0.21877358,  0.01231378],\n",
       "       [ 0.37246495,  0.11674009, -0.02443944, ..., -0.36401348,\n",
       "        -0.37367078,  0.21765221],\n",
       "       [-0.25078766,  0.49063499,  0.0816226 , ...,  0.10864898,\n",
       "         0.20494193,  0.05781322]])"
      ]
     },
     "execution_count": 58,
     "metadata": {},
     "output_type": "execute_result"
    }
   ],
   "source": [
    "W1 = np.random.uniform(-0.5, 0.5, (10,784))\n",
    "b1 = np.random.uniform(-0.5, 0.5, (10,1))\n",
    "W2 = np.random.uniform(-0.5, 0.5, (10,10))\n",
    "b2 = np.random.uniform(-0.5, 0.5, (10,1))\n",
    "\n",
    "learning_rate = 0.1\n",
    "iterations = 500\n",
    "\n",
    "X = train_X_flatten # shape -> 784, m\n",
    "Y = train_y_onehot\n",
    "\n",
    "for _ in range(iterations):\n",
    "    # forward prop\n",
    "    Z1 = W1@X+b1\n",
    "    A1 = ReLU(Z1)\n",
    "    Z2 = W2@A1+b2\n",
    "    A2 = ReLU(Z2)\n",
    "\n",
    "    # backward prop\n",
    "    dZ2 = A2-Y\n",
    "    dW2 = 1/m*dZ2@A1.T\n",
    "    db2 = 1/m*np.sum(dZ2)\n",
    "    dZ1 = W2.T@dZ2 * ReLU_deriv(Z1)\n",
    "    dW1 = 1/m*dZ1@X.T\n",
    "    db1 = 1/m*np.sum(dZ1)\n",
    "\n",
    "    # update poram\n",
    "    W1 = W1 - learning_rate * dW1\n",
    "    b1 = b1 - learning_rate * db1    \n",
    "    W2 = W2 - learning_rate * dW2  \n",
    "    b2 = b2 - learning_rate * db2    \n",
    "\n"
   ]
  },
  {
   "cell_type": "code",
   "execution_count": 102,
   "id": "9453202e",
   "metadata": {},
   "outputs": [
    {
     "data": {
      "text/plain": [
       "(784,)"
      ]
     },
     "execution_count": 102,
     "metadata": {},
     "output_type": "execute_result"
    }
   ],
   "source": [
    "train_X_flatten.T[0].shape"
   ]
  },
  {
   "cell_type": "code",
   "execution_count": 96,
   "id": "c9a771f4",
   "metadata": {},
   "outputs": [
    {
     "ename": "ValueError",
     "evalue": "matmul: Input operand 1 has a mismatch in its core dimension 0, with gufunc signature (n?,k),(k,m?)->(n?,m?) (size 60000 is different from 784)",
     "output_type": "error",
     "traceback": [
      "\u001b[1;31m---------------------------------------------------------------------------\u001b[0m",
      "\u001b[1;31mValueError\u001b[0m                                Traceback (most recent call last)",
      "\u001b[1;32m<ipython-input-96-0b0eb1d97906>\u001b[0m in \u001b[0;36m<module>\u001b[1;34m\u001b[0m\n\u001b[0;32m      3\u001b[0m \u001b[1;33m\u001b[0m\u001b[0m\n\u001b[0;32m      4\u001b[0m \u001b[1;33m\u001b[0m\u001b[0m\n\u001b[1;32m----> 5\u001b[1;33m \u001b[0mZ1\u001b[0m \u001b[1;33m=\u001b[0m \u001b[0mW1\u001b[0m\u001b[1;33m@\u001b[0m\u001b[0mX\u001b[0m\u001b[1;33m+\u001b[0m\u001b[0mb1\u001b[0m\u001b[1;33m\u001b[0m\u001b[1;33m\u001b[0m\u001b[0m\n\u001b[0m\u001b[0;32m      6\u001b[0m \u001b[0mA1\u001b[0m \u001b[1;33m=\u001b[0m \u001b[0mReLU\u001b[0m\u001b[1;33m(\u001b[0m\u001b[0mZ1\u001b[0m\u001b[1;33m)\u001b[0m\u001b[1;33m\u001b[0m\u001b[1;33m\u001b[0m\u001b[0m\n\u001b[0;32m      7\u001b[0m \u001b[0mZ2\u001b[0m \u001b[1;33m=\u001b[0m \u001b[0mW2\u001b[0m\u001b[1;33m@\u001b[0m\u001b[0mA1\u001b[0m\u001b[1;33m+\u001b[0m\u001b[0mb2\u001b[0m\u001b[1;33m\u001b[0m\u001b[1;33m\u001b[0m\u001b[0m\n",
      "\u001b[1;31mValueError\u001b[0m: matmul: Input operand 1 has a mismatch in its core dimension 0, with gufunc signature (n?,k),(k,m?)->(n?,m?) (size 60000 is different from 784)"
     ]
    }
   ],
   "source": [
    "X = train_X_flatten.T[0]\n",
    "y = train_y_onehot.T[0]\n",
    "\n",
    "\n",
    "Z1 = W1@X+b1\n",
    "A1 = ReLU(Z1)\n",
    "Z2 = W2@A1+b2\n",
    "A2 = ReLU(Z2)\n",
    "\n",
    "print(Z1.shape, W1.shape, X.shape) # -> HOW????"
   ]
  },
  {
   "cell_type": "code",
   "execution_count": 43,
   "id": "05665cec",
   "metadata": {
    "scrolled": false
   },
   "outputs": [
    {
     "name": "stdout",
     "output_type": "stream",
     "text": [
      "Correct guesses:  589552\n",
      "Wrong guesses:  5410448\n",
      "accuracy:  0.09825866666666666\n"
     ]
    }
   ],
   "source": [
    "W1 = np.random.uniform(-0.5, 0.5, (10,784))\n",
    "b1 = np.random.uniform(-0.5, 0.5, (10,1))\n",
    "W2 = np.random.uniform(-0.5, 0.5, (10,10))\n",
    "b2 = np.random.uniform(-0.5, 0.5, (10,1))\n",
    "\n",
    "learning_rate = 0.05\n",
    "iterations = 100\n",
    "\n",
    "correct_predictions = 0\n",
    "wrong_predictions = 0\n",
    "   \n",
    "for _ in range(iterations):\n",
    "    i = 0\n",
    "    m = 60000\n",
    "\n",
    "    while i<train_X_flatten.shape[-1]:\n",
    "        X = train_X_flatten.T[i:i+m].T # shape -> 784, m\n",
    "        Y = train_y_onehot.T[i:i+m].T\n",
    "\n",
    "        # forward prop\n",
    "        Z1 = W1@X+b1\n",
    "        A1 = ReLU(Z1)\n",
    "        Z2 = W2@A1+b2\n",
    "        A2 = ReLU(Z2)\n",
    "\n",
    "        # backward prop\n",
    "        dZ2 = A2-Y\n",
    "        for i_ in range(m):\n",
    "            guess = np.argmax(A2.T[i_])\n",
    "            label = np.argmax(Y.T[i_])\n",
    "            if label == guess:\n",
    "                correct_predictions += 1\n",
    "            else:\n",
    "                wrong_predictions += 1\n",
    "            \n",
    "        dW2 = 1/m*dZ2@A1.T\n",
    "        db2 = 1/m*np.sum(dZ2)\n",
    "        dZ1 = W2.T@dZ2 * ReLU_deriv(Z1)\n",
    "        dW1 = 1/m*dZ1@X.T\n",
    "        db1 = 1/m*np.sum(dZ1)\n",
    "\n",
    "        # update poram\n",
    "        W1 = W1 - learning_rate * dW1\n",
    "        b1 = b1 - learning_rate * db1    \n",
    "        W2 = W2 - learning_rate * dW2  \n",
    "        b2 = b2 - learning_rate * db2    \n",
    "        i+=m\n",
    "\n",
    "print(\"Correct guesses: \", correct_predictions)\n",
    "print(\"Wrong guesses: \", wrong_predictions)\n",
    "print(\"accuracy: \", correct_predictions/(wrong_predictions+correct_predictions))\n",
    "\n",
    "\n"
   ]
  },
  {
   "cell_type": "code",
   "execution_count": 56,
   "id": "fd88bc25",
   "metadata": {},
   "outputs": [
    {
     "name": "stdout",
     "output_type": "stream",
     "text": [
      "Label: 4\n",
      "Y onehot: [0. 0. 0. 0. 1. 0. 0. 0. 0. 0.]\n"
     ]
    },
    {
     "data": {
      "text/plain": [
       "<Figure size 432x288 with 0 Axes>"
      ]
     },
     "metadata": {},
     "output_type": "display_data"
    },
    {
     "data": {
      "image/png": "[encoded data removed]",
      "text/plain": [
       "<Figure size 288x288 with 1 Axes>"
      ]
     },
     "metadata": {
      "needs_background": "light"
     },
     "output_type": "display_data"
    },
    {
     "name": "stdout",
     "output_type": "stream",
     "text": [
      "[0. 0. 0. 0. 0. 0. 0. 0. 0. 0.]\n",
      "guess:  0 | certainty:  0.0\n"
     ]
    }
   ],
   "source": [
    "index = np.random.randint(0,1000)\n",
    "plot_and_label_train_X(index)\n",
    "\n",
    "X = train_X_flatten.T[index:index+1].T # shape -> 784, m\n",
    "Y = train_y_onehot.T[index:index+1].T\n",
    "\n",
    "#print(X.shape)\n",
    "Z1 = W1@X+b1\n",
    "A1 = ReLU(Z1)\n",
    "Z2 = W2@A1+b2\n",
    "A2 = ReLU(Z2)\n",
    "print(A2.T[0])\n",
    "print(\"guess: \", np.argmax(A2.T[0]), \"| certainty: \" ,np.max(A2.T[0]) )\n"
   ]
  },
  {
   "cell_type": "code",
   "execution_count": null,
   "id": "3d7b8a03",
   "metadata": {},
   "outputs": [],
   "source": []
  }
 ],
 "metadata": {
  "kernelspec": {
   "display_name": "Python 3",
   "language": "python",
   "name": "python3"
  },
  "language_info": {
   "codemirror_mode": {
    "name": "ipython",
    "version": 3
   },
   "file_extension": ".py",
   "mimetype": "text/x-python",
   "name": "python",
   "nbconvert_exporter": "python",
   "pygments_lexer": "ipython3",
   "version": "3.9.0"
  }
 },
 "nbformat": 4,
 "nbformat_minor": 5
}
