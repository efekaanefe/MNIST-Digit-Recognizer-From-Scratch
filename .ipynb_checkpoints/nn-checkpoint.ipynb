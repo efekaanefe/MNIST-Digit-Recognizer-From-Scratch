{
 "cells": [
  {
   "cell_type": "code",
   "execution_count": 2,
   "id": "6c8628b0",
   "metadata": {},
   "outputs": [],
   "source": [
    "import numpy as np\n",
    "import matplotlib.pyplot as plt\n",
    "from keras.datasets import mnist"
   ]
  },
  {
   "cell_type": "code",
   "execution_count": 3,
   "id": "c79bf5ce",
   "metadata": {},
   "outputs": [],
   "source": [
    "(train_X, train_y), (test_X, test_y) = mnist.load_data()\n"
   ]
  },
  {
   "cell_type": "code",
   "execution_count": 8,
   "id": "9688d42d",
   "metadata": {},
   "outputs": [
    {
     "data": {
      "text/plain": [
       "((60000, 28, 28), (60000,))"
      ]
     },
     "execution_count": 8,
     "metadata": {},
     "output_type": "execute_result"
    }
   ],
   "source": [
    "train_X.shape, train_y.shape"
   ]
  },
  {
   "cell_type": "code",
   "execution_count": 9,
   "id": "ecf1936c",
   "metadata": {
    "scrolled": false
   },
   "outputs": [
    {
     "data": {
      "text/plain": [
       "5"
      ]
     },
     "execution_count": 9,
     "metadata": {},
     "output_type": "execute_result"
    }
   ],
   "source": [
    "train_y[0]"
   ]
  },
  {
   "cell_type": "code",
   "execution_count": 34,
   "id": "51c17dd3",
   "metadata": {},
   "outputs": [],
   "source": [
    "def get_one_hot_y(y):\n",
    "    output = []\n",
    "    for i in range(y.shape[0]):\n",
    "        tmp = np.array([0]*10)\n",
    "        tmp[train_y[i]] = 1\n",
    "        output.append(tmp)\n",
    "    return np.array(output, dtype = \"float64\").T\n",
    "\n",
    "def get_flatten_X(X):\n",
    "    output = []\n",
    "    for i in range(X.shape[0]):\n",
    "        output.append(X[i].flatten())\n",
    "    return np.array(output, dtype=\"float64\").T\n",
    "\n",
    "    "
   ]
  },
  {
   "cell_type": "code",
   "execution_count": 35,
   "id": "336ff069",
   "metadata": {
    "scrolled": true
   },
   "outputs": [],
   "source": [
    "train_y_onehot = get_one_hot_y(train_y)\n",
    "train_X_flatten = get_flatten_X(train_X)\n",
    "test_y_onehot = get_one_hot_y(test_y)\n",
    "test_X_flatten = get_flatten_X(test_X)"
   ]
  },
  {
   "cell_type": "code",
   "execution_count": 36,
   "id": "02cad980",
   "metadata": {},
   "outputs": [
    {
     "data": {
      "text/plain": [
       "((10, 60000), (10, 10000))"
      ]
     },
     "execution_count": 36,
     "metadata": {},
     "output_type": "execute_result"
    }
   ],
   "source": [
    "train_y_onehot.shape, test_y_onehot.shape"
   ]
  },
  {
   "cell_type": "code",
   "execution_count": 37,
   "id": "e3302f24",
   "metadata": {},
   "outputs": [
    {
     "data": {
      "text/plain": [
       "((784, 60000), (784, 10000))"
      ]
     },
     "execution_count": 37,
     "metadata": {},
     "output_type": "execute_result"
    }
   ],
   "source": [
    "train_X_flatten.shape, test_X_flatten.shape"
   ]
  },
  {
   "cell_type": "code",
   "execution_count": 54,
   "id": "35f6a878",
   "metadata": {},
   "outputs": [
    {
     "name": "stdout",
     "output_type": "stream",
     "text": [
      "Label: 5\n",
      "Output onehot array form: [0. 0. 0. 0. 0. 1. 0. 0. 0. 0.]\n"
     ]
    },
    {
     "data": {
      "text/plain": [
       "<Figure size 432x288 with 0 Axes>"
      ]
     },
     "metadata": {},
     "output_type": "display_data"
    },
    {
     "data": {
      "image/png": "[encoded data removed]",
      "text/plain": [
       "<Figure size 288x288 with 1 Axes>"
      ]
     },
     "metadata": {
      "needs_background": "light"
     },
     "output_type": "display_data"
    },
    {
     "data": {
      "text/plain": [
       "0"
      ]
     },
     "execution_count": 54,
     "metadata": {},
     "output_type": "execute_result"
    }
   ],
   "source": [
    "def plot_and_label_train_X(i):\n",
    "    print(\"Label:\", train_y[i])\n",
    "    print(\"Output onehot array form:\", train_y_onehot.T[i])\n",
    "\n",
    "    plt.gray()\n",
    "    plt.matshow(train_X[i])\n",
    "    plt.show()\n",
    "    return 0\n",
    "\n",
    "plot_and_label_train_X(np.random.randint(0,1000))\n"
   ]
  },
  {
   "cell_type": "code",
   "execution_count": null,
   "id": "fd45be6c",
   "metadata": {},
   "outputs": [],
   "source": []
  }
 ],
 "metadata": {
  "kernelspec": {
   "display_name": "Python 3",
   "language": "python",
   "name": "python3"
  },
  "language_info": {
   "codemirror_mode": {
    "name": "ipython",
    "version": 3
   },
   "file_extension": ".py",
   "mimetype": "text/x-python",
   "name": "python",
   "nbconvert_exporter": "python",
   "pygments_lexer": "ipython3",
   "version": "3.9.0"
  }
 },
 "nbformat": 4,
 "nbformat_minor": 5
}
