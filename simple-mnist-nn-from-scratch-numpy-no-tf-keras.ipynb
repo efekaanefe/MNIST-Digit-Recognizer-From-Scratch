{
 "cells": [
  {
   "cell_type": "code",
   "execution_count": 1,
   "metadata": {
    "_cell_guid": "b1076dfc-b9ad-4769-8c92-a6c4dae69d19",
    "_uuid": "8f2839f25d086af736a60e9eeb907d3b93b6e0e5",
    "execution": {
     "iopub.execute_input": "2020-11-24T15:33:44.617819Z",
     "iopub.status.busy": "2020-11-24T15:33:44.616734Z",
     "iopub.status.idle": "2020-11-24T15:33:48.545917Z",
     "shell.execute_reply": "2020-11-24T15:33:48.545192Z"
    },
    "papermill": {
     "duration": 3.947576,
     "end_time": "2020-11-24T15:33:48.546057",
     "exception": false,
     "start_time": "2020-11-24T15:33:44.598481",
     "status": "completed"
    },
    "tags": []
   },
   "outputs": [],
   "source": [
    "import numpy as np\n",
    "import pandas as pd\n",
    "from matplotlib import pyplot as plt\n",
    "\n",
    "data = pd.read_csv('train.csv')"
   ]
  },
  {
   "cell_type": "code",
   "execution_count": 2,
   "metadata": {
    "execution": {
     "iopub.execute_input": "2020-11-24T15:33:48.577955Z",
     "iopub.status.busy": "2020-11-24T15:33:48.576778Z",
     "iopub.status.idle": "2020-11-24T15:33:49.353469Z",
     "shell.execute_reply": "2020-11-24T15:33:49.352724Z"
    },
    "papermill": {
     "duration": 0.795759,
     "end_time": "2020-11-24T15:33:49.353603",
     "exception": false,
     "start_time": "2020-11-24T15:33:48.557844",
     "status": "completed"
    },
    "tags": []
   },
   "outputs": [],
   "source": [
    "data = np.array(data)\n",
    "m, n = data.shape\n",
    "np.random.shuffle(data) # shuffle before splitting into dev and training sets\n",
    "\n",
    "data_dev = data[0:1000].T\n",
    "Y_dev = data_dev[0]\n",
    "X_dev = data_dev[1:n]\n",
    "X_dev = X_dev / 255.\n",
    "\n",
    "data_train = data[1000:m].T\n",
    "Y_train = data_train[0]\n",
    "X_train = data_train[1:n]\n",
    "X_train = X_train / 255.\n",
    "_,m_train = X_train.shape"
   ]
  },
  {
   "cell_type": "code",
   "execution_count": 3,
   "metadata": {
    "execution": {
     "iopub.execute_input": "2020-11-24T15:33:49.385574Z",
     "iopub.status.busy": "2020-11-24T15:33:49.384483Z",
     "iopub.status.idle": "2020-11-24T15:33:49.388342Z",
     "shell.execute_reply": "2020-11-24T15:33:49.388923Z"
    },
    "papermill": {
     "duration": 0.023743,
     "end_time": "2020-11-24T15:33:49.389054",
     "exception": false,
     "start_time": "2020-11-24T15:33:49.365311",
     "status": "completed"
    },
    "tags": []
   },
   "outputs": [
    {
     "data": {
      "text/plain": [
       "array([9, 7, 1, ..., 0, 4, 9], dtype=int64)"
      ]
     },
     "execution_count": 3,
     "metadata": {},
     "output_type": "execute_result"
    }
   ],
   "source": [
    "Y_train\n"
   ]
  },
  {
   "cell_type": "code",
   "execution_count": 4,
   "metadata": {
    "execution": {
     "iopub.execute_input": "2020-11-24T15:33:49.458553Z",
     "iopub.status.busy": "2020-11-24T15:33:49.457534Z",
     "iopub.status.idle": "2020-11-24T15:33:49.460243Z",
     "shell.execute_reply": "2020-11-24T15:33:49.460754Z"
    },
    "papermill": {
     "duration": 0.035762,
     "end_time": "2020-11-24T15:33:49.460906",
     "exception": false,
     "start_time": "2020-11-24T15:33:49.425144",
     "status": "completed"
    },
    "tags": []
   },
   "outputs": [],
   "source": [
    "def init_params():\n",
    "    W1 = np.random.rand(10, 784) - 0.5\n",
    "    b1 = np.random.rand(10, 1) - 0.5\n",
    "    W2 = np.random.rand(10, 10) - 0.5\n",
    "    b2 = np.random.rand(10, 1) - 0.5\n",
    "    return W1, b1, W2, b2\n",
    "\n",
    "def ReLU(Z):\n",
    "    return np.maximum(Z, 0)\n",
    "\n",
    "def softmax(Z):\n",
    "    A = np.exp(Z) / sum(np.exp(Z))\n",
    "    return A\n",
    "    \n",
    "def forward_prop(W1, b1, W2, b2, X):\n",
    "    Z1 = W1.dot(X) + b1\n",
    "    A1 = ReLU(Z1)\n",
    "    Z2 = W2.dot(A1) + b2\n",
    "    A2 = softmax(Z2)\n",
    "    return Z1, A1, Z2, A2\n",
    "\n",
    "def ReLU_deriv(Z):\n",
    "    return Z > 0\n",
    "\n",
    "def one_hot(Y):\n",
    "    one_hot_Y = np.zeros((Y.size, Y.max() + 1))\n",
    "    one_hot_Y[np.arange(Y.size), Y] = 1\n",
    "    one_hot_Y = one_hot_Y.T\n",
    "    return one_hot_Y\n",
    "\n",
    "def backward_prop(Z1, A1, Z2, A2, W1, W2, X, Y):\n",
    "    one_hot_Y = one_hot(Y)\n",
    "    dZ2 = A2 - one_hot_Y\n",
    "    dW2 = 1 / m * dZ2.dot(A1.T)\n",
    "    db2 = 1 / m * np.sum(dZ2)\n",
    "    dZ1 = W2.T.dot(dZ2) * ReLU_deriv(Z1)\n",
    "    dW1 = 1 / m * dZ1.dot(X.T)\n",
    "    db1 = 1 / m * np.sum(dZ1)\n",
    "    return dW1, db1, dW2, db2\n",
    "\n",
    "def update_params(W1, b1, W2, b2, dW1, db1, dW2, db2, alpha):\n",
    "    W1 = W1 - alpha * dW1\n",
    "    b1 = b1 - alpha * db1    \n",
    "    W2 = W2 - alpha * dW2  \n",
    "    b2 = b2 - alpha * db2    \n",
    "    return W1, b1, W2, b2"
   ]
  },
  {
   "cell_type": "code",
   "execution_count": 5,
   "metadata": {
    "execution": {
     "iopub.execute_input": "2020-11-24T15:33:49.496820Z",
     "iopub.status.busy": "2020-11-24T15:33:49.493109Z",
     "iopub.status.idle": "2020-11-24T15:33:49.499268Z",
     "shell.execute_reply": "2020-11-24T15:33:49.499782Z"
    },
    "papermill": {
     "duration": 0.026744,
     "end_time": "2020-11-24T15:33:49.499906",
     "exception": false,
     "start_time": "2020-11-24T15:33:49.473162",
     "status": "completed"
    },
    "tags": []
   },
   "outputs": [],
   "source": [
    "def get_predictions(A2):\n",
    "    return np.argmax(A2, 0)\n",
    "\n",
    "def get_accuracy(predictions, Y):\n",
    "    print(predictions, Y)\n",
    "    return np.sum(predictions == Y) / Y.size\n",
    "\n",
    "def gradient_descent(X, Y, alpha, iterations):\n",
    "    W1, b1, W2, b2 = init_params()\n",
    "    for i in range(iterations):\n",
    "        Z1, A1, Z2, A2 = forward_prop(W1, b1, W2, b2, X)\n",
    "        dW1, db1, dW2, db2 = backward_prop(Z1, A1, Z2, A2, W1, W2, X, Y)\n",
    "        W1, b1, W2, b2 = update_params(W1, b1, W2, b2, dW1, db1, dW2, db2, alpha)\n",
    "        if i % 10 == 0:\n",
    "            print(\"Iteration: \", i)\n",
    "            predictions = get_predictions(A2)\n",
    "            print(get_accuracy(predictions, Y))\n",
    "    return W1, b1, W2, b2"
   ]
  },
  {
   "cell_type": "code",
   "execution_count": 6,
   "metadata": {
    "execution": {
     "iopub.execute_input": "2020-11-24T15:33:49.529813Z",
     "iopub.status.busy": "2020-11-24T15:33:49.529067Z",
     "iopub.status.idle": "2020-11-24T15:34:33.915250Z",
     "shell.execute_reply": "2020-11-24T15:34:33.914598Z"
    },
    "papermill": {
     "duration": 44.403186,
     "end_time": "2020-11-24T15:34:33.915380",
     "exception": false,
     "start_time": "2020-11-24T15:33:49.512194",
     "status": "completed"
    },
    "tags": []
   },
   "outputs": [
    {
     "name": "stdout",
     "output_type": "stream",
     "text": [
      "Iteration:  0\n",
      "[4 4 4 ... 4 4 4] [9 7 1 ... 0 4 9]\n",
      "0.0915609756097561\n",
      "Iteration:  10\n",
      "[0 0 1 ... 0 0 4] [9 7 1 ... 0 4 9]\n",
      "0.1603170731707317\n",
      "Iteration:  20\n",
      "[0 0 1 ... 0 0 8] [9 7 1 ... 0 4 9]\n",
      "0.20114634146341465\n",
      "Iteration:  30\n",
      "[0 0 7 ... 0 0 8] [9 7 1 ... 0 4 9]\n",
      "0.25702439024390245\n",
      "Iteration:  40\n",
      "[7 3 7 ... 0 0 8] [9 7 1 ... 0 4 9]\n",
      "0.3187317073170732\n",
      "Iteration:  50\n",
      "[7 3 1 ... 0 6 9] [9 7 1 ... 0 4 9]\n",
      "0.3794390243902439\n",
      "Iteration:  60\n",
      "[7 3 1 ... 0 6 9] [9 7 1 ... 0 4 9]\n",
      "0.42685365853658536\n",
      "Iteration:  70\n",
      "[7 3 1 ... 0 6 9] [9 7 1 ... 0 4 9]\n",
      "0.4605365853658537\n",
      "Iteration:  80\n",
      "[7 3 1 ... 0 6 9] [9 7 1 ... 0 4 9]\n",
      "0.49634146341463414\n",
      "Iteration:  90\n",
      "[7 3 1 ... 0 6 9] [9 7 1 ... 0 4 9]\n",
      "0.5334634146341464\n",
      "Iteration:  100\n",
      "[7 3 1 ... 0 6 9] [9 7 1 ... 0 4 9]\n",
      "0.5663414634146341\n",
      "Iteration:  110\n",
      "[7 3 1 ... 0 6 9] [9 7 1 ... 0 4 9]\n",
      "0.5971951219512195\n",
      "Iteration:  120\n",
      "[7 3 1 ... 0 4 9] [9 7 1 ... 0 4 9]\n",
      "0.6230731707317073\n",
      "Iteration:  130\n",
      "[7 7 1 ... 0 4 9] [9 7 1 ... 0 4 9]\n",
      "0.6465365853658537\n",
      "Iteration:  140\n",
      "[7 7 1 ... 0 4 9] [9 7 1 ... 0 4 9]\n",
      "0.6662926829268293\n",
      "Iteration:  150\n",
      "[9 7 1 ... 0 4 9] [9 7 1 ... 0 4 9]\n",
      "0.6828780487804879\n",
      "Iteration:  160\n",
      "[9 7 1 ... 0 4 9] [9 7 1 ... 0 4 9]\n",
      "0.6970243902439024\n",
      "Iteration:  170\n",
      "[9 7 1 ... 0 4 9] [9 7 1 ... 0 4 9]\n",
      "0.7083658536585365\n",
      "Iteration:  180\n",
      "[9 7 1 ... 0 4 9] [9 7 1 ... 0 4 9]\n",
      "0.7184146341463414\n",
      "Iteration:  190\n",
      "[9 7 1 ... 0 4 9] [9 7 1 ... 0 4 9]\n",
      "0.7277317073170732\n",
      "Iteration:  200\n",
      "[9 7 1 ... 0 4 9] [9 7 1 ... 0 4 9]\n",
      "0.7365121951219512\n",
      "Iteration:  210\n",
      "[9 7 1 ... 0 4 9] [9 7 1 ... 0 4 9]\n",
      "0.7441219512195122\n",
      "Iteration:  220\n",
      "[9 7 1 ... 0 4 9] [9 7 1 ... 0 4 9]\n",
      "0.750390243902439\n",
      "Iteration:  230\n",
      "[9 7 1 ... 0 4 9] [9 7 1 ... 0 4 9]\n",
      "0.7564634146341463\n",
      "Iteration:  240\n",
      "[9 7 1 ... 0 4 9] [9 7 1 ... 0 4 9]\n",
      "0.762219512195122\n",
      "Iteration:  250\n",
      "[9 7 1 ... 0 4 9] [9 7 1 ... 0 4 9]\n",
      "0.7674146341463415\n",
      "Iteration:  260\n",
      "[9 7 1 ... 0 4 9] [9 7 1 ... 0 4 9]\n",
      "0.7723658536585366\n",
      "Iteration:  270\n",
      "[9 7 1 ... 0 4 9] [9 7 1 ... 0 4 9]\n",
      "0.7780243902439025\n",
      "Iteration:  280\n",
      "[9 7 1 ... 0 4 9] [9 7 1 ... 0 4 9]\n",
      "0.7821951219512195\n",
      "Iteration:  290\n",
      "[9 7 1 ... 0 4 9] [9 7 1 ... 0 4 9]\n",
      "0.7866341463414634\n",
      "Iteration:  300\n",
      "[9 7 1 ... 0 4 9] [9 7 1 ... 0 4 9]\n",
      "0.7907073170731708\n",
      "Iteration:  310\n",
      "[9 7 1 ... 0 4 9] [9 7 1 ... 0 4 9]\n",
      "0.7950975609756098\n",
      "Iteration:  320\n",
      "[9 7 1 ... 0 4 9] [9 7 1 ... 0 4 9]\n",
      "0.7986829268292683\n",
      "Iteration:  330\n",
      "[9 7 1 ... 0 4 9] [9 7 1 ... 0 4 9]\n",
      "0.8022439024390244\n",
      "Iteration:  340\n",
      "[9 7 1 ... 0 4 9] [9 7 1 ... 0 4 9]\n",
      "0.805829268292683\n",
      "Iteration:  350\n",
      "[9 7 1 ... 0 4 9] [9 7 1 ... 0 4 9]\n",
      "0.8088536585365854\n",
      "Iteration:  360\n",
      "[9 7 1 ... 0 4 9] [9 7 1 ... 0 4 9]\n",
      "0.811439024390244\n",
      "Iteration:  370\n",
      "[9 4 1 ... 0 4 9] [9 7 1 ... 0 4 9]\n",
      "0.8139512195121951\n",
      "Iteration:  380\n",
      "[9 4 1 ... 0 4 9] [9 7 1 ... 0 4 9]\n",
      "0.8161463414634146\n",
      "Iteration:  390\n",
      "[9 4 1 ... 0 4 9] [9 7 1 ... 0 4 9]\n",
      "0.8188536585365853\n",
      "Iteration:  400\n",
      "[9 4 1 ... 0 4 9] [9 7 1 ... 0 4 9]\n",
      "0.8211951219512195\n",
      "Iteration:  410\n",
      "[9 4 1 ... 0 4 9] [9 7 1 ... 0 4 9]\n",
      "0.8240243902439024\n",
      "Iteration:  420\n",
      "[9 4 1 ... 0 4 9] [9 7 1 ... 0 4 9]\n",
      "0.8262682926829268\n",
      "Iteration:  430\n",
      "[9 4 1 ... 0 4 9] [9 7 1 ... 0 4 9]\n",
      "0.8284634146341463\n",
      "Iteration:  440\n",
      "[9 4 1 ... 0 4 9] [9 7 1 ... 0 4 9]\n",
      "0.8300975609756097\n",
      "Iteration:  450\n",
      "[9 4 1 ... 0 4 9] [9 7 1 ... 0 4 9]\n",
      "0.8318048780487804\n",
      "Iteration:  460\n",
      "[9 4 1 ... 0 4 9] [9 7 1 ... 0 4 9]\n",
      "0.8334634146341463\n",
      "Iteration:  470\n",
      "[9 4 1 ... 0 4 9] [9 7 1 ... 0 4 9]\n",
      "0.8347073170731707\n",
      "Iteration:  480\n",
      "[9 4 1 ... 0 4 9] [9 7 1 ... 0 4 9]\n",
      "0.8365853658536585\n",
      "Iteration:  490\n",
      "[9 4 1 ... 0 4 9] [9 7 1 ... 0 4 9]\n",
      "0.8384390243902439\n"
     ]
    }
   ],
   "source": [
    "W1, b1, W2, b2 = gradient_descent(X_train, Y_train, 0.10, 500)"
   ]
  },
  {
   "cell_type": "code",
   "execution_count": 7,
   "metadata": {
    "execution": {
     "iopub.execute_input": "2020-11-24T15:34:34.058947Z",
     "iopub.status.busy": "2020-11-24T15:34:34.058192Z",
     "iopub.status.idle": "2020-11-24T15:34:34.061542Z",
     "shell.execute_reply": "2020-11-24T15:34:34.060921Z"
    },
    "papermill": {
     "duration": 0.048197,
     "end_time": "2020-11-24T15:34:34.061656",
     "exception": false,
     "start_time": "2020-11-24T15:34:34.013459",
     "status": "completed"
    },
    "tags": []
   },
   "outputs": [],
   "source": [
    "def make_predictions(X, W1, b1, W2, b2):\n",
    "    _, _, _, A2 = forward_prop(W1, b1, W2, b2, X)\n",
    "    predictions = get_predictions(A2)\n",
    "    return predictions\n",
    "\n",
    "def test_prediction(index, W1, b1, W2, b2):\n",
    "    current_image = X_train[:, index, None]\n",
    "    prediction = make_predictions(X_train[:, index, None], W1, b1, W2, b2)\n",
    "    label = Y_train[index]\n",
    "    print(\"Prediction: \", prediction)\n",
    "    print(\"Label: \", label)\n",
    "    \n",
    "    current_image = current_image.reshape((28, 28)) * 255\n",
    "    plt.gray()\n",
    "    plt.imshow(current_image, interpolation='nearest')\n",
    "    plt.show()"
   ]
  },
  {
   "cell_type": "markdown",
   "metadata": {
    "papermill": {
     "duration": 0.032382,
     "end_time": "2020-11-24T15:34:34.126664",
     "exception": false,
     "start_time": "2020-11-24T15:34:34.094282",
     "status": "completed"
    },
    "tags": []
   },
   "source": [
    "Let's look at a couple of examples:"
   ]
  },
  {
   "cell_type": "code",
   "execution_count": 8,
   "metadata": {
    "execution": {
     "iopub.execute_input": "2020-11-24T15:34:34.198764Z",
     "iopub.status.busy": "2020-11-24T15:34:34.197926Z",
     "iopub.status.idle": "2020-11-24T15:34:34.858256Z",
     "shell.execute_reply": "2020-11-24T15:34:34.857536Z"
    },
    "papermill": {
     "duration": 0.699008,
     "end_time": "2020-11-24T15:34:34.858375",
     "exception": false,
     "start_time": "2020-11-24T15:34:34.159367",
     "status": "completed"
    },
    "tags": []
   },
   "outputs": [
    {
     "name": "stdout",
     "output_type": "stream",
     "text": [
      "Prediction:  [9]\n",
      "Label:  9\n"
     ]
    },
    {
     "data": {
      "image/png": "[encoded data removed]",
      "text/plain": [
       "<Figure size 432x288 with 1 Axes>"
      ]
     },
     "metadata": {
      "needs_background": "light"
     },
     "output_type": "display_data"
    },
    {
     "name": "stdout",
     "output_type": "stream",
     "text": [
      "Prediction:  [4]\n",
      "Label:  7\n"
     ]
    },
    {
     "data": {
      "image/png": "[encoded data removed]",
      "text/plain": [
       "<Figure size 432x288 with 1 Axes>"
      ]
     },
     "metadata": {
      "needs_background": "light"
     },
     "output_type": "display_data"
    },
    {
     "name": "stdout",
     "output_type": "stream",
     "text": [
      "Prediction:  [1]\n",
      "Label:  1\n"
     ]
    },
    {
     "data": {
      "image/png": "[encoded data removed]",
      "text/plain": [
       "<Figure size 432x288 with 1 Axes>"
      ]
     },
     "metadata": {
      "needs_background": "light"
     },
     "output_type": "display_data"
    },
    {
     "name": "stdout",
     "output_type": "stream",
     "text": [
      "Prediction:  [2]\n",
      "Label:  2\n"
     ]
    },
    {
     "data": {
      "image/png": "[encoded data removed]",
      "text/plain": [
       "<Figure size 432x288 with 1 Axes>"
      ]
     },
     "metadata": {
      "needs_background": "light"
     },
     "output_type": "display_data"
    }
   ],
   "source": [
    "test_prediction(0, W1, b1, W2, b2)\n",
    "test_prediction(1, W1, b1, W2, b2)\n",
    "test_prediction(2, W1, b1, W2, b2)\n",
    "test_prediction(3, W1, b1, W2, b2)"
   ]
  },
  {
   "cell_type": "markdown",
   "metadata": {
    "papermill": {
     "duration": 0.037333,
     "end_time": "2020-11-24T15:34:34.933186",
     "exception": false,
     "start_time": "2020-11-24T15:34:34.895853",
     "status": "completed"
    },
    "tags": []
   },
   "source": [
    "Finally, let's find the accuracy on the dev set:"
   ]
  },
  {
   "cell_type": "code",
   "execution_count": 9,
   "metadata": {
    "execution": {
     "iopub.execute_input": "2020-11-24T15:34:35.013161Z",
     "iopub.status.busy": "2020-11-24T15:34:35.012371Z",
     "iopub.status.idle": "2020-11-24T15:34:35.033284Z",
     "shell.execute_reply": "2020-11-24T15:34:35.032394Z"
    },
    "papermill": {
     "duration": 0.062985,
     "end_time": "2020-11-24T15:34:35.033457",
     "exception": false,
     "start_time": "2020-11-24T15:34:34.970472",
     "status": "completed"
    },
    "tags": []
   },
   "outputs": [
    {
     "name": "stdout",
     "output_type": "stream",
     "text": [
      "[3 3 6 0 9 1 6 7 0 7 1 2 6 3 6 6 1 4 1 7 4 6 1 2 1 7 7 4 1 7 5 5 6 8 1 7 0\n",
      " 3 0 8 4 7 8 3 7 2 6 9 4 1 1 5 1 8 1 8 4 8 9 3 5 7 5 0 8 9 6 3 1 2 2 3 9 1\n",
      " 3 9 4 4 6 2 5 6 5 8 8 2 9 5 3 1 3 8 1 3 8 3 1 0 3 2 4 6 8 6 8 2 1 9 5 6 9\n",
      " 1 6 6 6 6 2 9 2 8 0 4 0 8 5 8 4 4 3 8 9 0 8 4 7 9 5 3 0 6 8 1 8 0 6 0 7 2\n",
      " 4 1 3 0 8 9 9 3 6 0 4 6 1 4 1 4 7 8 4 5 9 7 3 1 6 3 3 2 1 6 2 3 7 2 9 1 8\n",
      " 4 9 0 8 8 3 5 3 5 8 0 5 0 7 4 9 9 4 1 2 4 3 9 8 0 0 2 0 0 0 4 0 7 3 7 1 1\n",
      " 2 7 2 2 7 6 3 9 9 7 6 6 5 3 5 9 7 1 6 2 9 4 4 8 4 8 0 0 1 3 9 4 2 0 9 1 4\n",
      " 5 7 1 9 4 8 7 3 8 6 9 4 9 4 0 0 7 3 2 5 0 1 8 6 7 4 9 1 3 6 3 7 7 5 3 4 7\n",
      " 4 6 1 0 9 1 4 0 1 8 1 1 0 8 4 9 3 8 7 3 9 1 0 8 3 6 1 5 5 0 9 4 1 1 7 1 1\n",
      " 9 4 4 8 4 6 8 8 0 0 7 1 9 4 5 1 0 4 9 0 3 7 9 7 2 1 6 2 2 7 6 8 1 1 0 9 9\n",
      " 6 8 4 3 7 8 0 7 5 0 6 7 2 2 1 4 1 3 0 0 4 5 5 8 3 1 4 9 9 4 1 5 1 1 3 6 0\n",
      " 2 0 9 8 7 4 7 6 5 5 6 4 6 8 7 8 7 7 9 2 6 1 1 2 4 7 9 4 9 1 3 8 7 4 6 0 1\n",
      " 1 6 4 8 3 9 2 6 7 8 4 7 3 9 5 6 3 2 3 1 7 5 8 6 1 3 0 1 9 0 9 6 9 3 8 0 5\n",
      " 6 8 8 7 8 8 7 9 1 3 7 4 4 2 3 6 4 3 0 6 4 9 0 1 1 9 5 6 5 7 6 3 4 0 4 6 3\n",
      " 8 4 8 3 8 2 2 0 8 8 3 7 7 2 8 9 9 5 7 7 4 3 4 3 8 9 8 5 4 8 1 6 6 9 8 6 7\n",
      " 8 6 0 7 0 7 1 3 7 1 8 8 8 3 1 8 5 1 1 4 6 3 2 5 8 8 4 2 2 2 4 9 9 3 0 1 9\n",
      " 7 7 3 8 6 4 9 3 6 0 6 3 9 5 8 2 1 8 0 9 1 9 1 9 8 6 3 7 6 2 9 4 7 5 5 0 6\n",
      " 3 2 8 5 9 6 2 1 5 6 7 8 7 8 0 9 8 8 9 3 0 5 2 3 1 3 7 1 9 6 8 1 8 6 0 2 1\n",
      " 2 8 6 9 2 5 0 7 8 9 5 9 1 0 0 1 7 8 0 2 3 6 1 9 6 0 6 4 1 2 9 0 7 5 9 7 2\n",
      " 3 9 0 3 0 0 7 2 6 1 9 5 9 1 4 4 9 6 7 6 6 4 7 3 1 0 7 7 8 0 1 4 0 7 6 9 9\n",
      " 7 1 4 1 1 5 5 8 1 1 9 5 6 6 4 0 3 7 5 2 4 4 1 3 3 4 3 8 8 5 2 2 4 6 7 3 3\n",
      " 5 6 2 1 1 1 6 1 4 0 4 9 8 3 1 1 7 2 9 7 0 2 6 8 9 9 2 1 1 1 8 2 5 4 7 6 7\n",
      " 7 8 5 4 6 3 9 0 6 0 3 6 8 4 3 6 2 6 1 1 1 2 7 0 3 0 7 1 8 4 0 3 3 8 6 6 5\n",
      " 7 3 3 7 8 5 4 2 4 9 6 3 4 6 0 1 9 6 4 7 1 9 5 2 9 3 8 8 1 8 2 5 4 2 9 0 3\n",
      " 8 0 9 2 9 9 9 0 3 2 8 1 3 7 6 2 9 3 6 3 1 8 9 9 1 9 6 0 3 6 1 0 2 1 9 8 1\n",
      " 6 9 4 5 1 6 9 6 6 8 7 1 2 1 1 6 8 4 1 6 4 1 1 0 8 7 4 0 8 3 6 9 2 0 2 0 1\n",
      " 6 3 8 5 5 1 3 9 9 1 0 2 8 7 7 5 7 9 1 1 6 3 3 6 3 8 2 5 8 7 7 7 3 6 0 1 3\n",
      " 6] [3 3 6 0 9 1 6 7 0 7 1 8 6 3 6 6 1 4 1 7 4 6 1 2 1 7 7 4 1 7 5 5 4 8 1 7 0\n",
      " 3 0 8 4 7 5 3 7 2 6 9 4 1 1 5 1 9 1 0 4 2 9 3 5 7 5 0 8 9 6 3 1 2 0 3 9 1\n",
      " 3 9 4 4 6 2 3 6 0 8 8 2 9 5 3 1 3 8 1 3 5 3 1 0 3 2 4 2 9 6 8 2 1 9 3 6 9\n",
      " 1 6 6 5 6 2 9 2 8 0 4 6 8 5 8 4 4 3 8 9 0 3 4 7 7 5 3 0 6 8 1 8 0 5 0 7 2\n",
      " 4 1 3 0 8 9 9 3 6 2 4 6 1 4 1 4 7 8 4 5 9 7 3 1 6 3 3 2 1 6 4 5 7 2 9 1 8\n",
      " 4 9 0 8 5 2 5 3 3 8 0 5 0 7 4 4 4 4 1 2 4 3 7 8 0 0 2 0 0 5 4 0 7 9 7 1 1\n",
      " 2 7 2 2 7 6 3 9 4 7 6 6 5 3 5 9 7 1 6 2 9 2 4 8 4 8 0 0 1 3 7 4 2 0 9 1 4\n",
      " 5 7 5 9 4 8 7 3 2 6 9 4 9 4 0 0 9 3 2 5 5 1 8 6 7 4 9 1 3 6 8 9 4 5 3 4 7\n",
      " 4 6 1 0 9 1 4 0 1 8 1 1 0 8 4 9 5 1 7 3 9 1 0 8 3 6 1 8 5 0 9 4 1 1 7 1 1\n",
      " 9 4 4 8 4 6 8 3 0 0 7 1 9 9 5 1 0 4 4 0 3 7 9 7 2 1 6 2 2 7 6 8 1 1 0 9 9\n",
      " 6 8 4 3 7 8 2 7 5 0 6 7 6 3 1 4 1 5 0 0 4 5 3 8 3 1 4 9 4 4 1 5 1 1 5 6 0\n",
      " 2 5 9 8 9 2 7 4 5 5 6 4 3 8 9 8 7 7 9 7 6 1 1 6 4 7 9 4 8 1 3 4 7 8 6 2 1\n",
      " 1 6 4 9 3 4 2 6 7 8 6 7 3 9 5 6 3 2 3 1 7 7 8 2 1 3 0 1 9 0 5 6 9 3 8 0 5\n",
      " 6 8 8 7 3 8 7 9 1 3 9 4 4 2 5 6 4 3 0 6 4 9 0 1 1 9 5 6 5 7 6 3 4 0 4 6 8\n",
      " 5 4 8 5 8 2 2 0 8 5 3 7 7 2 1 9 9 5 7 7 4 3 4 8 5 4 8 5 4 8 1 6 6 9 8 6 9\n",
      " 8 6 0 7 0 7 1 3 7 9 8 8 1 5 1 8 9 1 1 8 6 3 2 5 8 8 4 7 2 2 4 4 9 3 0 1 9\n",
      " 7 7 9 8 6 4 9 3 6 8 6 3 9 5 8 2 3 8 5 9 1 9 1 9 8 2 3 5 2 2 9 4 7 0 5 0 6\n",
      " 3 2 8 5 9 6 2 1 5 6 7 8 7 8 0 9 9 8 9 3 0 5 8 3 1 3 7 1 4 6 8 1 3 6 0 2 1\n",
      " 2 8 6 8 2 8 0 7 8 9 5 9 1 0 5 1 7 8 0 3 3 6 1 9 6 0 6 4 1 2 9 0 7 5 7 7 2\n",
      " 3 4 0 3 0 0 7 2 6 1 4 5 9 1 2 4 8 6 7 6 6 4 7 3 1 0 7 7 8 0 1 4 0 7 6 9 9\n",
      " 7 1 4 1 1 5 6 8 1 1 9 5 6 6 4 0 5 7 5 2 4 9 1 3 3 4 3 8 8 5 6 2 9 6 7 2 3\n",
      " 5 6 2 1 1 1 6 1 4 0 4 7 8 3 1 1 9 2 9 7 0 9 6 8 9 9 2 1 1 1 8 2 5 4 7 6 7\n",
      " 7 7 5 9 6 3 9 0 6 3 3 6 1 4 3 4 8 4 1 1 1 2 7 0 3 0 7 1 5 2 0 3 3 1 6 6 5\n",
      " 7 3 5 7 8 5 4 2 9 9 6 3 6 6 0 1 8 6 4 5 1 9 5 2 9 3 8 8 1 7 2 5 4 2 9 0 3\n",
      " 8 0 9 2 7 9 8 2 3 6 3 2 5 7 6 2 9 3 6 3 1 8 9 9 1 9 6 5 3 6 6 0 2 1 9 5 1\n",
      " 6 9 4 5 1 6 9 5 6 2 7 1 7 1 1 6 8 4 8 6 4 1 1 0 8 7 4 0 8 3 3 9 2 0 2 0 1\n",
      " 6 3 8 5 5 1 3 9 9 1 0 2 8 7 7 8 7 9 1 1 4 7 2 6 3 5 2 5 8 7 7 7 3 6 0 1 3\n",
      " 6]\n"
     ]
    },
    {
     "data": {
      "text/plain": [
       "0.845"
      ]
     },
     "execution_count": 9,
     "metadata": {},
     "output_type": "execute_result"
    }
   ],
   "source": [
    "dev_predictions = make_predictions(X_dev, W1, b1, W2, b2)\n",
    "get_accuracy(dev_predictions, Y_dev)"
   ]
  }
 ],
 "metadata": {
  "kernelspec": {
   "display_name": "Python 3",
   "language": "python",
   "name": "python3"
  },
  "language_info": {
   "codemirror_mode": {
    "name": "ipython",
    "version": 3
   },
   "file_extension": ".py",
   "mimetype": "text/x-python",
   "name": "python",
   "nbconvert_exporter": "python",
   "pygments_lexer": "ipython3",
   "version": "3.9.0"
  },
  "papermill": {
   "duration": 55.320944,
   "end_time": "2020-11-24T15:34:35.258832",
   "environment_variables": {},
   "exception": null,
   "input_path": "__notebook__.ipynb",
   "output_path": "__notebook__.ipynb",
   "parameters": {},
   "start_time": "2020-11-24T15:33:39.937888",
   "version": "2.1.0"
  },
  "vscode": {
   "interpreter": {
    "hash": "f6c8f846148a3e4d140e6ddf63c190cff559dcf260a4a21539f0978f2b58638c"
   }
  }
 },
 "nbformat": 4,
 "nbformat_minor": 4
}
