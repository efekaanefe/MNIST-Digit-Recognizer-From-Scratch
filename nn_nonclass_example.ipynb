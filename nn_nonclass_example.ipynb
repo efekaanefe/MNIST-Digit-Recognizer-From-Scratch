{
 "cells": [
  {
   "cell_type": "code",
   "execution_count": 1,
   "id": "77d3ac8f",
   "metadata": {},
   "outputs": [],
   "source": [
    "import numpy as np\n",
    "import matplotlib.pyplot as plt\n",
    "from keras.datasets import mnist"
   ]
  },
  {
   "cell_type": "code",
   "execution_count": 2,
   "id": "0f550d62",
   "metadata": {},
   "outputs": [],
   "source": [
    "(train_X, train_y), (test_X, test_y) = mnist.load_data()"
   ]
  },
  {
   "cell_type": "code",
   "execution_count": 3,
   "id": "2a9b55ac",
   "metadata": {},
   "outputs": [],
   "source": [
    "# train_X = train_X.astype(\"float64\")\n",
    "# train_y = train_y.astype(\"float64\")\n",
    "# test_X = test_X.astype(\"float64\")\n",
    "# test_y = test_X.astype(\"float64\")"
   ]
  },
  {
   "cell_type": "code",
   "execution_count": 4,
   "id": "cd8c3591",
   "metadata": {},
   "outputs": [],
   "source": [
    "test_X = test_X/255\n",
    "train_X = train_X/255"
   ]
  },
  {
   "cell_type": "code",
   "execution_count": 5,
   "id": "73707b9f",
   "metadata": {},
   "outputs": [
    {
     "data": {
      "text/plain": [
       "((60000, 28, 28), (60000,))"
      ]
     },
     "execution_count": 5,
     "metadata": {},
     "output_type": "execute_result"
    }
   ],
   "source": [
    "train_X.shape, train_y.shape"
   ]
  },
  {
   "cell_type": "code",
   "execution_count": 6,
   "id": "696fb549",
   "metadata": {
    "scrolled": false
   },
   "outputs": [
    {
     "data": {
      "text/plain": [
       "array([[0., 0., 0., ..., 0., 0., 0.],\n",
       "       [0., 0., 0., ..., 0., 0., 0.],\n",
       "       [0., 0., 0., ..., 0., 0., 0.],\n",
       "       ...,\n",
       "       [0., 0., 0., ..., 0., 0., 0.],\n",
       "       [0., 0., 0., ..., 0., 0., 0.],\n",
       "       [0., 0., 0., ..., 0., 0., 0.]])"
      ]
     },
     "execution_count": 6,
     "metadata": {},
     "output_type": "execute_result"
    }
   ],
   "source": [
    "train_X.T[0]"
   ]
  },
  {
   "cell_type": "code",
   "execution_count": 7,
   "id": "0cf9efa4",
   "metadata": {},
   "outputs": [],
   "source": [
    "def get_one_hot_y(y):\n",
    "    output = []\n",
    "    for i in range(y.shape[0]):\n",
    "        tmp = np.array([0]*10)\n",
    "        tmp[train_y[i]] = 1\n",
    "        output.append(tmp)\n",
    "    return np.array(output).T\n",
    "\n",
    "def get_flatten_X(X):\n",
    "    output = []\n",
    "    for i in range(X.shape[0]):\n",
    "        output.append(X[i].flatten())\n",
    "    return np.array(output).T"
   ]
  },
  {
   "cell_type": "code",
   "execution_count": 8,
   "id": "eeb0f182",
   "metadata": {
    "scrolled": true
   },
   "outputs": [],
   "source": [
    "train_y_onehot = get_one_hot_y(train_y)\n",
    "train_X_flatten = get_flatten_X(train_X)\n",
    "test_y_onehot = get_one_hot_y(test_y)\n",
    "test_X_flatten = get_flatten_X(test_X)"
   ]
  },
  {
   "cell_type": "code",
   "execution_count": 9,
   "id": "a2cf370d",
   "metadata": {},
   "outputs": [
    {
     "data": {
      "text/plain": [
       "((10, 60000), (10, 10000))"
      ]
     },
     "execution_count": 9,
     "metadata": {},
     "output_type": "execute_result"
    }
   ],
   "source": [
    "train_y_onehot.shape, test_y_onehot.shape"
   ]
  },
  {
   "cell_type": "code",
   "execution_count": 10,
   "id": "e04f5e75",
   "metadata": {},
   "outputs": [
    {
     "data": {
      "text/plain": [
       "((784, 60000), (784, 10000))"
      ]
     },
     "execution_count": 10,
     "metadata": {},
     "output_type": "execute_result"
    }
   ],
   "source": [
    "train_X_flatten.shape, test_X_flatten.shape"
   ]
  },
  {
   "cell_type": "code",
   "execution_count": 11,
   "id": "dc527306",
   "metadata": {},
   "outputs": [
    {
     "name": "stdout",
     "output_type": "stream",
     "text": [
      "Label: 2\n",
      "Y onehot: [0 0 1 0 0 0 0 0 0 0]\n"
     ]
    },
    {
     "data": {
      "text/plain": [
       "<Figure size 432x288 with 0 Axes>"
      ]
     },
     "metadata": {},
     "output_type": "display_data"
    },
    {
     "data": {
      "image/png": "[encoded data removed]",
      "text/plain": [
       "<Figure size 288x288 with 1 Axes>"
      ]
     },
     "metadata": {
      "needs_background": "light"
     },
     "output_type": "display_data"
    }
   ],
   "source": [
    "def plot_and_label_train_X(i):\n",
    "    print(\"Label:\", train_y[i])\n",
    "    print(\"Y onehot:\", train_y_onehot.T[i])\n",
    "    plt.gray()\n",
    "    plt.matshow(train_X[i])\n",
    "    plt.show()\n",
    "\n",
    "    # p = np.reshape(train_X_flatten.T[i].T,(28,28))\n",
    "    # plt.gray()\n",
    "    # plt.matshow(p)\n",
    "    # plt.show()\n",
    "\n",
    "\n",
    "\n",
    "plot_and_label_train_X(np.random.randint(0,1000))"
   ]
  },
  {
   "cell_type": "code",
   "execution_count": 12,
   "id": "171c311d",
   "metadata": {},
   "outputs": [],
   "source": [
    "def sigmoid(x):\n",
    "    return 1/(1+np.exp(-x))\n",
    "\n",
    "def sigmoid_deriv(x):\n",
    "    return sigmoid(x)*(1-sigmoid(x))\n",
    "\n",
    "def ReLU(Z):\n",
    "    return np.maximum(Z, 0)\n",
    "\n",
    "def ReLU_deriv(Z):\n",
    "    return Z > 0\n",
    "\n",
    "def softmax(Z):\n",
    "    A = np.exp(Z) / sum(np.exp(Z))\n",
    "    return A\n",
    "\n"
   ]
  },
  {
   "cell_type": "code",
   "execution_count": 13,
   "id": "3653d247",
   "metadata": {},
   "outputs": [],
   "source": [
    "# suppress warnings\n",
    "#np.warnings.filterwarnings('ignore')\n",
    "\n",
    "\n",
    "# init params\n",
    "W1 = np.random.uniform(-0.5, 0.5, (10,784))\n",
    "b1 = np.random.uniform(-0.5, 0.5, (10,1))\n",
    "W2 = np.random.uniform(-0.5, 0.5, (10,10))\n",
    "b2 = np.random.uniform(-0.5, 0.5, (10,1))\n",
    "\n",
    "i = 0\n",
    "m = 2\n",
    "\n",
    "X = train_X_flatten.T[i:i+m].T # shape -> 784, m\n",
    "Y = train_y_onehot.T[i:i+m].T\n",
    "\n",
    "# forward prop\n",
    "Z1 = W1@X+b1\n",
    "A1 = ReLU(Z1)\n",
    "Z2 = W2@A1+b2\n",
    "A2 = softmax(Z2)\n",
    "\n",
    "# backward prop\n",
    "dZ2 = A2-Y\n",
    "dW2 = 1/m*dZ2@A1.T\n",
    "db2 = 1/m*np.sum(dZ2)\n",
    "dZ1 = W2.T@dZ2 * ReLU_deriv(Z1)\n",
    "dW1 = 1/m*dZ1@X.T\n",
    "db1 = 1/m*np.sum(dZ1)\n",
    "\n",
    "# update poram\n",
    "learning_rate = 0.2\n",
    "W1 = W1 - learning_rate * dW1\n",
    "b1 = b1 - learning_rate * db1    \n",
    "W2 = W2 - learning_rate * dW2  \n",
    "b2 = b2 - learning_rate * db2    "
   ]
  },
  {
   "cell_type": "code",
   "execution_count": 14,
   "id": "8438d4c6",
   "metadata": {},
   "outputs": [],
   "source": [
    "def get_predictions(A2):\n",
    "    return np.argmax(A2, 0)\n",
    "\n",
    "def get_accuracy(predictions, Y):\n",
    "    # print(predictions, Y)\n",
    "    return np.sum(predictions == Y) / Y.size"
   ]
  },
  {
   "cell_type": "code",
   "execution_count": 15,
   "id": "e09b3e5a",
   "metadata": {},
   "outputs": [
    {
     "name": "stdout",
     "output_type": "stream",
     "text": [
      "(60000,) (10, 60000) (784, 60000)\n"
     ]
    }
   ],
   "source": [
    "print(train_y.shape ,train_y_onehot.shape, train_X_flatten.shape)"
   ]
  },
  {
   "attachments": {},
   "cell_type": "markdown",
   "id": "60b3b24f",
   "metadata": {},
   "source": [
    "## TRAINING WITHOUT ITERATIONS"
   ]
  },
  {
   "cell_type": "code",
   "execution_count": 16,
   "id": "090efcad",
   "metadata": {},
   "outputs": [
    {
     "name": "stdout",
     "output_type": "stream",
     "text": [
      "Epoch:  0\n",
      "0.10278333333333334\n",
      "Epoch:  10\n",
      "0.17718333333333333\n",
      "Epoch:  20\n",
      "0.2643333333333333\n",
      "Epoch:  30\n",
      "0.33391666666666664\n",
      "Epoch:  40\n",
      "0.3774\n",
      "Epoch:  50\n",
      "0.41068333333333334\n",
      "Epoch:  60\n",
      "0.4519666666666667\n",
      "Epoch:  70\n",
      "0.49335\n",
      "Epoch:  80\n",
      "0.5259166666666667\n",
      "Epoch:  90\n",
      "0.5583833333333333\n",
      "Epoch:  100\n",
      "0.5877\n",
      "Epoch:  110\n",
      "0.6115166666666667\n",
      "Epoch:  120\n",
      "0.63285\n",
      "Epoch:  130\n",
      "0.6502833333333333\n",
      "Epoch:  140\n",
      "0.6662666666666667\n",
      "Epoch:  150\n",
      "0.6794333333333333\n",
      "Epoch:  160\n",
      "0.6924\n",
      "Epoch:  170\n",
      "0.7037166666666667\n",
      "Epoch:  180\n",
      "0.7142166666666667\n",
      "Epoch:  190\n",
      "0.7251666666666666\n",
      "Epoch:  200\n",
      "0.7346666666666667\n",
      "Epoch:  210\n",
      "0.7442166666666666\n",
      "Epoch:  220\n",
      "0.7522\n",
      "Epoch:  230\n",
      "0.7605666666666666\n",
      "Epoch:  240\n",
      "0.7680333333333333\n",
      "Epoch:  250\n",
      "0.7752\n",
      "Epoch:  260\n",
      "0.7816666666666666\n",
      "Epoch:  270\n",
      "0.7874333333333333\n",
      "Epoch:  280\n",
      "0.79235\n",
      "Epoch:  290\n",
      "0.7968833333333334\n",
      "Epoch:  300\n",
      "0.8014333333333333\n",
      "Epoch:  310\n",
      "0.8056166666666666\n",
      "Epoch:  320\n",
      "0.8090333333333334\n",
      "Epoch:  330\n",
      "0.8125166666666667\n",
      "Epoch:  340\n",
      "0.81505\n",
      "Epoch:  350\n",
      "0.8178833333333333\n",
      "Epoch:  360\n",
      "0.8209833333333333\n",
      "Epoch:  370\n",
      "0.8232\n",
      "Epoch:  380\n",
      "0.8255333333333333\n",
      "Epoch:  390\n",
      "0.8284166666666667\n",
      "Epoch:  400\n",
      "0.8305666666666667\n",
      "Epoch:  410\n",
      "0.83235\n",
      "Epoch:  420\n",
      "0.83455\n",
      "Epoch:  430\n",
      "0.8365833333333333\n",
      "Epoch:  440\n",
      "0.8383833333333334\n",
      "Epoch:  450\n",
      "0.8399\n",
      "Epoch:  460\n",
      "0.8413666666666667\n",
      "Epoch:  470\n",
      "0.8428666666666667\n",
      "Epoch:  480\n",
      "0.8443\n",
      "Epoch:  490\n",
      "0.8456166666666667\n"
     ]
    }
   ],
   "source": [
    "W1 = np.random.uniform(-0.5, 0.5, (10,784))\n",
    "b1 = np.random.uniform(-0.5, 0.5, (10,1))\n",
    "W2 = np.random.uniform(-0.5, 0.5, (10,10))\n",
    "b2 = np.random.uniform(-0.5, 0.5, (10,1))\n",
    "\n",
    "\n",
    "learning_rate = 0.1\n",
    "epochs = 500\n",
    "\n",
    "X = train_X_flatten # shape -> 784, m\n",
    "Y = train_y_onehot\n",
    "m = 60000\n",
    "\n",
    "correct_predictions = 0\n",
    "wrong_predictions = 0\n",
    "\n",
    "for epoch in range(epochs):\n",
    "    # forward prop\n",
    "    Z1 = W1@X+b1\n",
    "    A1 = ReLU(Z1)\n",
    "    Z2 = W2@A1+b2\n",
    "    A2 = softmax(Z2)\n",
    "\n",
    "    # backward prop\n",
    "    dZ2 = A2-Y\n",
    "    dW2 = 1/m*dZ2@A1.T\n",
    "    db2 = 1/m*np.sum(dZ2)\n",
    "    dZ1 = W2.T@dZ2 * ReLU_deriv(Z1)\n",
    "    dW1 = 1/m*dZ1@X.T\n",
    "    db1 = 1/m*np.sum(dZ1)\n",
    "\n",
    "    # update poram\n",
    "    W1 = W1 - learning_rate * dW1\n",
    "    b1 = b1 - learning_rate * db1    \n",
    "    W2 = W2 - learning_rate * dW2  \n",
    "    b2 = b2 - learning_rate * db2    \n",
    "\n",
    "    # accuracy\n",
    "    if epoch % 10 == 0 :\n",
    "        # print(A2)\n",
    "        print(\"Epoch: \", epoch)\n",
    "        predictions = get_predictions(A2)\n",
    "        print(get_accuracy(predictions, train_y))\n"
   ]
  },
  {
   "attachments": {},
   "cell_type": "markdown",
   "id": "45804572",
   "metadata": {},
   "source": [
    "## IMPLEMENTING BATCH SIZE? BUT I DON'T KNOW HOW WOULD IT HELP? WHY NOT JUST USE ALL THE DATA AT ONCE\n",
    "\n",
    "Decreasing the batch size during training of a neural network can have several potential benefits:\n",
    "\n",
    "1- Reducing memory requirements: A smaller batch size means that fewer training examples are processed in each iteration, which can reduce the amount of memory required to store the training data and intermediate results. This can be important for training larger neural networks or when working with limited memory resources.\n",
    "\n",
    "2- More frequent weight updates: A smaller batch size means that the neural network is updated more frequently during each epoch, which can help to speed up the training process and potentially lead to better convergence. With a larger batch size, the weight updates are less frequent, and the optimizer may take longer to converge to the optimal weights.\n",
    "\n",
    "3- Improved generalization: Smaller batches can help to prevent the neural network from overfitting to the training data by introducing more randomness and variation into the training process. This can help the network to generalize better to new data and improve its performance on the validation and test sets.\n",
    "\n",
    "However, decreasing the batch size may also have some potential drawbacks:\n",
    "\n",
    "1- Slower training convergence: With smaller batch sizes, the optimization process may require more iterations or epochs to converge to the optimal weights, which can result in longer training times.\n",
    "\n",
    "2- Noisier weight updates: With smaller batch sizes, the gradient estimates may be noisier and less accurate, which can lead to more unstable training and slower convergence. This can be mitigated by using techniques such as momentum or weight decay.\n",
    "\n",
    "3- Overall, the optimal batch size will depend on the specific neural network architecture, dataset, and optimization algorithm used, and it may require experimentation and tuning to find the best value.\n",
    "\n",
    "\n",
    "\n",
    "\n"
   ]
  },
  {
   "attachments": {},
   "cell_type": "markdown",
   "id": "d04c9cfa",
   "metadata": {},
   "source": [
    "## TRAINING WITH ITERATIONS AND MANIPULATIVE BATCH SIZE"
   ]
  },
  {
   "cell_type": "code",
   "execution_count": 18,
   "id": "c8ff9cd3",
   "metadata": {},
   "outputs": [
    {
     "name": "stdout",
     "output_type": "stream",
     "text": [
      "Epoch: 0\n",
      "0.08005\n",
      "Epoch: 10\n",
      "0.4264833333333333\n",
      "Epoch: 20\n",
      "0.6345333333333333\n",
      "Epoch: 30\n",
      "0.6916833333333333\n",
      "Epoch: 40\n",
      "0.69145\n",
      "Epoch: 50\n",
      "0.75165\n",
      "Epoch: 60\n",
      "0.7849\n",
      "Epoch: 70\n",
      "0.8115166666666667\n",
      "Epoch: 80\n",
      "0.8297\n",
      "Epoch: 90\n",
      "0.79705\n",
      "Epoch: 100\n",
      "0.8493666666666667\n",
      "Epoch: 110\n",
      "0.8491833333333333\n",
      "Epoch: 120\n",
      "0.8575666666666667\n",
      "Epoch: 130\n",
      "0.863\n",
      "Epoch: 140\n",
      "0.8675666666666667\n",
      "Epoch: 150\n",
      "0.8725166666666667\n",
      "Epoch: 160\n",
      "0.87625\n",
      "Epoch: 170\n",
      "0.8794666666666666\n",
      "Epoch: 180\n",
      "0.88255\n",
      "Epoch: 190\n",
      "0.8851166666666667\n",
      "Epoch: 200\n",
      "0.8875333333333333\n",
      "Epoch: 210\n",
      "0.8896833333333334\n",
      "Epoch: 220\n",
      "0.89165\n",
      "Epoch: 230\n",
      "0.8931666666666667\n",
      "Epoch: 240\n",
      "0.8949333333333334\n",
      "Epoch: 250\n",
      "0.8961833333333333\n"
     ]
    },
    {
     "data": {
      "image/png": "[encoded data removed]",
      "text/plain": [
       "<Figure size 432x288 with 1 Axes>"
      ]
     },
     "metadata": {
      "needs_background": "light"
     },
     "output_type": "display_data"
    }
   ],
   "source": [
    "W1 = np.random.uniform(-0.5, 0.5, (10,784))\n",
    "b1 = np.random.uniform(-0.5, 0.5, (10,1))\n",
    "W2 = np.random.uniform(-0.5, 0.5, (10,10))\n",
    "b2 = np.random.uniform(-0.5, 0.5, (10,1))\n",
    "\n",
    "epochs = 250\n",
    "batch_size = 60000//1\n",
    "iterations = train_X_flatten.T.shape[0]//batch_size\n",
    "learning_rate = 0.65\n",
    "\n",
    "# m = batch_size\n",
    "X = train_X_flatten # shape -> 784, m\n",
    "Y = train_y_onehot # shape -< 10, m\n",
    "\n",
    "# plot accuracy\n",
    "accuracy_values = []\n",
    "epoch_values = []\n",
    "\n",
    "for epoch in range(epochs+1):\n",
    "\n",
    "    for iteration in range(iterations):\n",
    "\n",
    "        X = train_X_flatten.T[(iteration*batch_size):(iteration+1)*batch_size].T\n",
    "        Y = train_y_onehot.T[(iteration*batch_size):(iteration+1)*batch_size].T\n",
    "        # print(iter*batch_size)\n",
    "        # forward prop\n",
    "        Z1 = W1@X+b1\n",
    "        A1 = ReLU(Z1)\n",
    "        Z2 = W2@A1+b2\n",
    "        A2 = softmax(Z2)\n",
    "\n",
    "        # backward prop\n",
    "        dZ2 = A2-Y\n",
    "        dW2 = 1/m*dZ2@A1.T\n",
    "        db2 = 1/m*np.sum(dZ2)\n",
    "        dZ1 = W2.T@dZ2 * ReLU_deriv(Z1)\n",
    "        dW1 = 1/m*dZ1@X.T\n",
    "        db1 = 1/m*np.sum(dZ1)\n",
    "\n",
    "        # update poram\n",
    "        W1 = W1 - learning_rate * dW1\n",
    "        b1 = b1 - learning_rate * db1    \n",
    "        W2 = W2 - learning_rate * dW2  \n",
    "        b2 = b2 - learning_rate * db2    \n",
    "\n",
    "        # accuracy\n",
    "        if epoch % 10 == 0:\n",
    "            # print(A2)\n",
    "            print(\"Epoch:\", epoch,)\n",
    "            predictions = get_predictions(A2)\n",
    "            accuracy = get_accuracy(predictions, train_y.T[(iteration*batch_size):(iteration+1)*batch_size].T)\n",
    "            print(accuracy)\n",
    "\n",
    "            accuracy_values.append(accuracy)\n",
    "            epoch_values.append(epoch)\n",
    "\n",
    "fig = plt.figure(1)\t#identifies the figure \n",
    "plt.title(f\"accuracy vs epoch = {epoch}, batch_size = {batch_size}, learning_rate = {learning_rate}\", fontsize='16')\t#title\n",
    "plt.plot(epoch_values, accuracy_values)\t#plot the points\n",
    "plt.xlabel(\"epoch\",fontsize='13')\t#adds a label in the x axis\n",
    "plt.ylabel(\"accuracy\",fontsize='13')\t#adds a label in the y axis\n",
    "# plt.savefig(f\"epoch_{epoch} batch_size_{batch_size}.png\")\t#saves the figure in the present directory\n",
    "\n",
    "plt.grid()\t#shows a grid under the plot\n",
    "plt.show()\n",
    "\n",
    "\n",
    "\n",
    "\n",
    "\n"
   ]
  },
  {
   "attachments": {},
   "cell_type": "markdown",
   "id": "608fa870",
   "metadata": {},
   "source": [
    "## TEST ACCURACY WITH TEST DATA"
   ]
  },
  {
   "cell_type": "code",
   "execution_count": 20,
   "id": "9453202e",
   "metadata": {},
   "outputs": [
    {
     "data": {
      "text/plain": [
       "0.8958"
      ]
     },
     "execution_count": 20,
     "metadata": {},
     "output_type": "execute_result"
    }
   ],
   "source": [
    "\n",
    "X = test_X_flatten\n",
    "Y = test_y\n",
    "\n",
    "Z1 = W1@X+b1\n",
    "A1 = ReLU(Z1)\n",
    "Z2 = W2@A1+b2\n",
    "A2 = softmax(Z2)\n",
    "\n",
    "get_accuracy(get_predictions(A2), Y)\n"
   ]
  },
  {
   "attachments": {},
   "cell_type": "markdown",
   "id": "45139222",
   "metadata": {},
   "source": [
    "## TESTING WITH RANDOM INDIVIDUAL DATA\n"
   ]
  },
  {
   "cell_type": "code",
   "execution_count": 25,
   "id": "c9a771f4",
   "metadata": {},
   "outputs": [
    {
     "name": "stdout",
     "output_type": "stream",
     "text": [
      "(784, 1)\n",
      "I am % 98.66 certain that it is:  9\n",
      "Label: 9\n",
      "Y onehot: [0 0 0 0 0 0 0 0 0 1]\n"
     ]
    },
    {
     "data": {
      "text/plain": [
       "<Figure size 432x288 with 0 Axes>"
      ]
     },
     "metadata": {},
     "output_type": "display_data"
    },
    {
     "data": {
      "image/png": "[encoded data removed]",
      "text/plain": [
       "<Figure size 288x288 with 1 Axes>"
      ]
     },
     "metadata": {
      "needs_background": "light"
     },
     "output_type": "display_data"
    }
   ],
   "source": [
    "# index = 5151\n",
    "index = np.random.randint(0,1000)\n",
    "#plot_and_label_train_X(index)\n",
    "\n",
    "X = train_X_flatten.T[index:index+1].T\n",
    "y = train_y_onehot.T[index:index+1].T\n",
    "\n",
    "\n",
    "Z1 = W1@X+b1\n",
    "A1 = ReLU(Z1)\n",
    "Z2 = W2@A1+b2\n",
    "A2 = softmax(Z2)\n",
    "\n",
    "print(f\"I am % {np.around(np.max(A2)*100, 2)} certain that it is: \", np.argmax(A2))\n",
    "plot_and_label_train_X(index)\n"
   ]
  },
  {
   "cell_type": "code",
   "execution_count": null,
   "id": "3d7b8a03",
   "metadata": {},
   "outputs": [],
   "source": [
    "from nnfs.datasets import spiral_data\n",
    "\n",
    "spiral_data"
   ]
  }
 ],
 "metadata": {
  "kernelspec": {
   "display_name": "Python 3",
   "language": "python",
   "name": "python3"
  },
  "language_info": {
   "codemirror_mode": {
    "name": "ipython",
    "version": 3
   },
   "file_extension": ".py",
   "mimetype": "text/x-python",
   "name": "python",
   "nbconvert_exporter": "python",
   "pygments_lexer": "ipython3",
   "version": "3.9.0"
  }
 },
 "nbformat": 4,
 "nbformat_minor": 5
}
